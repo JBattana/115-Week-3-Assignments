{
  "nbformat": 4,
  "nbformat_minor": 0,
  "metadata": {
    "colab": {
      "provenance": [],
      "authorship_tag": "ABX9TyPqCVqvGXNAU4rtbQYgdl42",
      "include_colab_link": true
    },
    "kernelspec": {
      "name": "python3",
      "display_name": "Python 3"
    },
    "language_info": {
      "name": "python"
    }
  },
  "cells": [
    {
      "cell_type": "markdown",
      "metadata": {
        "id": "view-in-github",
        "colab_type": "text"
      },
      "source": [
        "<a href=\"https://colab.research.google.com/github/JBattana/115-Week-3-Assignments/blob/main/Week_3_Assignment_3_1.ipynb\" target=\"_parent\"><img src=\"https://colab.research.google.com/assets/colab-badge.svg\" alt=\"Open In Colab\"/></a>"
      ]
    },
    {
      "cell_type": "markdown",
      "source": [
        "Load the dataset into a pandas dataframe and answer the following questions:"
      ],
      "metadata": {
        "id": "Kbgt2xpxq0vA"
      }
    },
    {
      "cell_type": "markdown",
      "source": [
        "Describe the structure of the diabetes dataset (size,features, data types)"
      ],
      "metadata": {
        "id": "OWGKFe0PrUGq"
      }
    },
    {
      "cell_type": "code",
      "source": [
        "#Code here"
      ],
      "metadata": {
        "id": "uJ7Ix31kq9fa"
      },
      "execution_count": null,
      "outputs": []
    },
    {
      "cell_type": "markdown",
      "source": [
        "Show the relationships between the target variable and the features using scatter plot and correlation analysis."
      ],
      "metadata": {
        "id": "5INp95yTrceo"
      }
    },
    {
      "cell_type": "code",
      "source": [
        "#Code here"
      ],
      "metadata": {
        "id": "x21Nsl2erkhc"
      },
      "execution_count": null,
      "outputs": []
    },
    {
      "cell_type": "markdown",
      "source": [
        "Build a Simple Linear Regression Model (Single Feature):\n",
        "\n",
        "1. Choose a single feature (body mass index) as the predictor variable and the s6 glu, blood sugar level as the target variable.\n",
        "\n",
        "2. Split the dataset into training and testing sets.\n",
        "\n",
        "3. Train a simple linear regression model using the training data.\n",
        "\n",
        "4. Evaluate the model's accuracy using metrics such as mean squared error (MSE) or R-squared on both the training and testing sets.\n",
        "\n",
        "5. Visualize the actual vs. predicted values of the target variable on the testing set."
      ],
      "metadata": {
        "id": "s3qVpi5Zr0hJ"
      }
    },
    {
      "cell_type": "markdown",
      "source": [
        "Build a Simple Linear Regression Model (Two Features):\n",
        "\n",
        "1.Select two features (body mass index and age in years) as predictor variables and the s6 glu, blood sugar level as the target variable.\n",
        "\n",
        "2.Split the dataset into training and testing sets.\n",
        "Train a simple linear regression model using the training data.\n",
        "\n",
        "3.Assess the model's accuracy using metrics such as MSE or R-squared on both the training and testing sets.\n",
        "\n",
        "4.Visualize the actual vs. predicted values of the target variable on the testing set."
      ],
      "metadata": {
        "id": "3jemb3HZr6vI"
      }
    }
  ]
}